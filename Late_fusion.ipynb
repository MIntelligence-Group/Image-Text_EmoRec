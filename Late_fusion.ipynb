{
 "cells": [
  {
   "cell_type": "code",
   "execution_count": 13,
   "metadata": {},
   "outputs": [],
   "source": [
    "import numpy as np\n",
    "import pandas as pd\n",
    "import tensorflow as tf\n",
    "import matplotlib.pyplot as plt\n",
    "from numpy import loadtxt\n",
    "from itertools import product\n",
    "from itertools import product\n",
    "from sklearn.metrics import confusion_matrix\n",
    "from keras.utils import to_categorical\n",
    "from sklearn.metrics import accuracy_score"
   ]
  },
  {
   "cell_type": "code",
   "execution_count": 16,
   "metadata": {},
   "outputs": [],
   "source": [
    "# load array\n",
    "text_prob = loadtxt('data_files/text_prob.csv', delimiter=',')\n",
    "img_prob = loadtxt('data_files/img_prob.csv', delimiter=',')\n",
    "inter_prob = loadtxt('data_files/inter_prob.csv', delimiter=',')\n",
    "# print the array"
   ]
  },
  {
   "cell_type": "code",
   "execution_count": 19,
   "metadata": {
    "scrolled": true
   },
   "outputs": [
    {
     "name": "stdout",
     "output_type": "stream",
     "text": [
      "0.368\n",
      "0.901\n",
      "0.867\n",
      "Weights Score: 0.718\n"
     ]
    }
   ],
   "source": [
    "def ensemble_predictions(yhats,weights):\n",
    "    # weighted sum across ensemble members\n",
    "    #summed = tf.tensordot(yhats, weights, axes=((0),(0)))\n",
    "    w, h = 1000, 4\n",
    "    summed = [[0 for x in range(w)] for y in range(h)] \n",
    "    #print(summed)\n",
    "    for i in range(1000):\n",
    "        for x in range(4):\n",
    "            summed[x][i]=0\n",
    "            for y in range(2):\n",
    "                summed[x][i]=summed[x][i]+(yhats[y][i][x])*weights[y]\n",
    "    # argmax across classes\n",
    "    result = np.argmax(summed, axis=0)\n",
    "    return result\n",
    " \n",
    "def evaluate_ensemble(yhats,testy,weights):\n",
    "    # make prediction\n",
    "    yhat = ensemble_predictions(yhats,weights)\n",
    "    # calculate accuracy\n",
    "    return accuracy_score(testy, yhat)\n",
    "\n",
    "def loss_function(yhats,testy,weights):\n",
    "    # normalize weights\n",
    "    normalized = normalize(weights)\n",
    "    # calculate error rate\n",
    "    return 1.0 - evaluate_ensemble(yhats,testy,weights)\n",
    "\n",
    "# normalize a vector to have unit norm\n",
    "def normalize(weights):\n",
    "    # calculate l1 vector norm\n",
    "    result = tf.norm(weights, 1)\n",
    "    # check for a vector of all zeros\n",
    "    if result == 0.0:\n",
    "        return weights\n",
    "    # return normalized vector (unit norm)\n",
    "    return weights / result\n",
    "\n",
    "testdata=pd.read_csv('data_files/test_labels.csv')\n",
    "\n",
    "yhats=[text_prob,img_prob,inter_prob]\n",
    "yhats = np.array(yhats,dtype='object')\n",
    "#yhats = tf.convert_to_tensor(yhats,dtype=np.ndarray)\n",
    "#print(yhats[1][0][0])\n",
    "\n",
    "testy=[i for i in testdata['label']]\n",
    "text_pred=pd.read_csv('data_files/text_pred.csv')\n",
    "img_pred=pd.read_csv('data_files/img_pred.csv')\n",
    "inter_pred=pd.read_csv('data_files/inter_pred.csv')\n",
    "ytxt=[i for i in text_pred['text_pred']]\n",
    "yimg=[i for i in img_pred['img_pred']]\n",
    "yinter=[i for i in inter_pred['inter_pred']]\n",
    "y=[ytxt,yimg,yinter]\n",
    "\n",
    "n_members = 3\n",
    "# evaluate each single model on the test set\n",
    "for i in range(n_members):\n",
    "    test_acc = accuracy_score(testy, y[i])\n",
    "    print(test_acc)\n",
    "# evaluate averaging ensemble (equal weights)\n",
    "weights = [1.0/n_members for _ in range(n_members)]\n",
    "weights=np.array(weights)\n",
    "\n",
    "#weights = tf.convert_to_tensor(weights,dtype=np.float32)\n",
    "score=evaluate_ensemble(yhats,testy,weights)\n",
    "print('Weights Score: %.3f' % score)"
   ]
  },
  {
   "cell_type": "code",
   "execution_count": 21,
   "metadata": {},
   "outputs": [],
   "source": [
    "def grid_search(yhats,testy,weights):\n",
    "    # define weights to consider\n",
    "    w = [ 0.1, 0.2, 0.3, 0.4, 0.5, 0.6, 0.7, 0.8, 0.9]\n",
    "    best_score, best_weights = 0.0, None\n",
    "    # iterate all possible combinations (cartesian product)\n",
    "    for weights in product(w, repeat=3):\n",
    "        # skip if all weights are equal\n",
    "        if len(set(weights)) == 1:\n",
    "            continue\n",
    "        # hack, normalize weight vector\n",
    "        weights = normalize(weights)\n",
    "        # evaluate weights\n",
    "        score = evaluate_ensemble(yhats, testy,weights)\n",
    "        if score > best_score:\n",
    "            best_score, best_weights = score, weights\n",
    "            print('>%s %.3f' % (best_weights, best_score))\n",
    "    return list(best_weights)"
   ]
  },
  {
   "cell_type": "code",
   "execution_count": 22,
   "metadata": {},
   "outputs": [
    {
     "name": "stdout",
     "output_type": "stream",
     "text": [
      ">tf.Tensor([0.25 0.25 0.5 ], shape=(3,), dtype=float32) 0.718\n",
      ">tf.Tensor([0.25 0.5  0.25], shape=(3,), dtype=float32) 0.875\n",
      ">tf.Tensor([0.2 0.6 0.2], shape=(3,), dtype=float32) 0.886\n",
      ">tf.Tensor([0.16666666 0.6666666  0.16666666], shape=(3,), dtype=float32) 0.892\n",
      ">tf.Tensor([0.12499999 0.74999994 0.12499999], shape=(3,), dtype=float32) 0.893\n",
      ">tf.Tensor([0.11111111 0.77777773 0.11111111], shape=(3,), dtype=float32) 0.894\n",
      ">tf.Tensor([0.1 0.8 0.1], shape=(3,), dtype=float32) 0.895\n",
      ">tf.Tensor([0.09090909 0.81818175 0.09090909], shape=(3,), dtype=float32) 0.897\n",
      "Grid Search Weights: [<tf.Tensor: shape=(), dtype=float32, numpy=0.09090909>, <tf.Tensor: shape=(), dtype=float32, numpy=0.81818175>, <tf.Tensor: shape=(), dtype=float32, numpy=0.09090909>], Score: 0.897\n"
     ]
    }
   ],
   "source": [
    "# grid search weights\n",
    "weights = grid_search(yhats, testy, weights)\n",
    "score = evaluate_ensemble(yhats, testy,weights)\n",
    "print('Grid Search Weights: %s, Score: %.3f' % (weights, score))"
   ]
  },
  {
   "cell_type": "code",
   "execution_count": 23,
   "metadata": {},
   "outputs": [],
   "source": [
    "pred=ensemble_predictions(yhats,weights) "
   ]
  },
  {
   "cell_type": "code",
   "execution_count": 24,
   "metadata": {},
   "outputs": [
    {
     "data": {
      "image/png": "[encoded data removed]",
      "text/plain": [
       "<Figure size 1440x720 with 2 Axes>"
      ]
     },
     "metadata": {
      "needs_background": "light"
     },
     "output_type": "display_data"
    }
   ],
   "source": [
    "cnf_matrix = confusion_matrix(testy, pred)\n",
    "def plot_confusion_matrix(cm, labels,\n",
    "                          normalize=True,\n",
    "                          title='Confusion Matrix (Validation Set)',\n",
    "                          cmap=plt.cm.Blues):\n",
    "    \"\"\"\n",
    "    This function prints and plots the confusion matrix.\n",
    "    Normalization can be applied by setting `normalize=True`.\n",
    "    \"\"\"\n",
    "    if normalize:\n",
    "        cm = cm.astype('float') / cm.sum(axis=1)[:, np.newaxis]\n",
    "        #print(\"Normalized confusion matrix\")\n",
    "    else:\n",
    "        #print('Confusion matrix, without normalization')\n",
    "        pass\n",
    "\n",
    "    #print(cm)\n",
    "\n",
    "    plt.imshow(cm, interpolation='nearest', cmap=cmap)\n",
    "    plt.title(title)\n",
    "    plt.colorbar()\n",
    "    tick_marks = np.arange(4)\n",
    "    plt.xticks(tick_marks, labels, rotation=45)\n",
    "    plt.yticks(tick_marks, labels)\n",
    "\n",
    "    fmt = '.2f' if normalize else 'd'\n",
    "    thresh = cm.max() / 2.\n",
    "    for i, j in product(range(cm.shape[0]), range(cm.shape[1])):\n",
    "        plt.text(j, i, format(cm[i, j], fmt),\n",
    "                 horizontalalignment=\"center\",\n",
    "                 color=\"white\" if cm[i, j] > thresh else \"black\")\n",
    "\n",
    "    plt.tight_layout()\n",
    "    plt.ylabel('True label')\n",
    "    plt.xlabel('Predicted label')\n",
    "\n",
    "plt.figure(figsize=(20,10))\n",
    "plot_confusion_matrix(cnf_matrix,labels=None)\n",
    "\n",
    "# precision = true_pos / (true_pos + false_p"
   ]
  }
 ],
 "metadata": {
  "kernelspec": {
   "display_name": "Python 3",
   "language": "python",
   "name": "python3"
  },
  "language_info": {
   "codemirror_mode": {
    "name": "ipython",
    "version": 3
   },
   "file_extension": ".py",
   "mimetype": "text/x-python",
   "name": "python",
   "nbconvert_exporter": "python",
   "pygments_lexer": "ipython3",
   "version": "3.8.5"
  }
 },
 "nbformat": 4,
 "nbformat_minor": 4
}
